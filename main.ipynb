{
 "cells": [
  {
   "cell_type": "code",
   "execution_count": 1,
   "metadata": {
    "colab": {},
    "colab_type": "code",
    "id": "htdUCyvBgWiV"
   },
   "outputs": [],
   "source": [
    "from pyspark.sql.types import *\n",
    "from pyspark.sql.functions import *\n",
    "from pyspark.sql.window import Window\n",
    "\n",
    "from pyspark.sql import SparkSession\n",
    "\n",
    "spark = SparkSession.builder.appName(\"BDF\").getOrCreate()"
   ]
  },
  {
   "cell_type": "code",
   "execution_count": 2,
   "metadata": {
    "colab": {},
    "colab_type": "code",
    "id": "RVM7MC-lgWif",
    "scrolled": true
   },
   "outputs": [],
   "source": [
    "vehicle_records_csv_url = \"per-vehicle-records-2020-01-01.csv\"\n",
    "vehicle_records_df = spark.read.format('csv').load(vehicle_records_csv_url, inferSchema = True, header = True)\n"
   ]
  },
  {
   "cell_type": "code",
   "execution_count": 3,
   "metadata": {
    "colab": {},
    "colab_type": "code",
    "id": "CKKJoYnxgWip",
    "outputId": "bb66878e-f84c-4285-cc90-cf7ccc19d1ca",
    "scrolled": true
   },
   "outputs": [
    {
     "name": "stdout",
     "output_type": "stream",
     "text": [
      "+-------------+--------------+--------------------------+\n",
      "|category_name|category_count|percentage_grp_by_category|\n",
      "+-------------+--------------+--------------------------+\n",
      "|          CAR|       3934595|                     91.21|\n",
      "|      HGV_ART|         37816|                      0.88|\n",
      "|          BUS|         27931|                      0.65|\n",
      "|      HGV_RIG|         37309|                      0.86|\n",
      "|         null|           522|                      0.01|\n",
      "|      CARAVAN|          6757|                      0.16|\n",
      "|          LGV|        255782|                      5.93|\n",
      "|        MBIKE|         13207|                      0.31|\n",
      "+-------------+--------------+--------------------------+\n",
      "\n"
     ]
    }
   ],
   "source": [
    "# Solution 1 : Calculate the usage of Irish road network in terms of percentage grouped by vehicle category.\n",
    "\n",
    "derived_grp_by_cls_df = vehicle_records_df.groupBy(\"classname\").count().select(\n",
    "    col(\"classname\").alias(\"category_name\"), \n",
    "    col(\"count\").alias(\"category_count\"))\n",
    "\n",
    "vehicle_records_count = vehicle_records_df.count()\n",
    "\n",
    "t1_df = derived_grp_by_cls_df.select( \n",
    "    '*',\n",
    "    round((col(\"category_count\")*100/vehicle_records_count), 2).alias('percentage_grp_by_category'))\n",
    "\n",
    "t1_df.show(10)"
   ]
  },
  {
   "cell_type": "code",
   "execution_count": 4,
   "metadata": {
    "colab": {},
    "colab_type": "code",
    "id": "ijrIgusogWi0",
    "outputId": "7b087ab1-cc17-4bc6-f12f-0b83f295eaed"
   },
   "outputs": [
    {
     "name": "stdout",
     "output_type": "stream",
     "text": [
      "+-------+----+--------+\n",
      "|summary|hour|hr_count|\n",
      "+-------+----+--------+\n",
      "|    min|   4|   31103|\n",
      "|    max|  14|  423811|\n",
      "+-------+----+--------+\n",
      "\n"
     ]
    }
   ],
   "source": [
    "#Solution 2 : Calculate the highest and lowest hourly flows on M50 - show the hours and total number of vehicle counts.\n",
    "\n",
    "hr_count_df = vehicle_records_df.groupBy(\"hour\").count().withColumnRenamed(\"count\", \"hr_count\") \n",
    "\n",
    "highest_lowest_data_df = hr_count_df.describe(['hr_count']).filter('summary == \"min\" or summary == \"max\"') \\\n",
    "    .withColumnRenamed(\"hr_count\",\"summary_count\")\n",
    "\n",
    "highest_lowest_data_with_hr_df = highest_lowest_data_df.join(hr_count_df, col(\"summary_count\") == col(\"hr_count\"), 'left_outer') \\\n",
    "    .select(\"summary\", \"hour\", \"hr_count\")\n",
    "\n",
    "highest_lowest_data_with_hr_df.show()"
   ]
  },
  {
   "cell_type": "code",
   "execution_count": 5,
   "metadata": {
    "colab": {},
    "colab_type": "code",
    "id": "9cWb_5MEgWi9",
    "outputId": "ef0f5dc7-d8f2-453c-a175-62e04297d9e6"
   },
   "outputs": [
    {
     "name": "stdout",
     "output_type": "stream",
     "text": [
      "+-------+----+--------+\n",
      "|hr_flag|hour|hr_count|\n",
      "+-------+----+--------+\n",
      "|Evening|  14|  423811|\n",
      "|Morning|  11|  229176|\n",
      "+-------+----+--------+\n",
      "\n"
     ]
    }
   ],
   "source": [
    "##Solution3 :Calculate the evening and morning rush hours on M50 - show the hours and the total counts.\n",
    "\n",
    "hrOverCategory = Window.partitionBy(\"hr_flag\")\n",
    "\n",
    "evening_and_morning_rush_hr_df = hr_count_df.select(\"*\", when(col(\"hour\") < 12, \"Morning\").otherwise(\"Evening\").alias(\"hr_flag\") ) \\\n",
    ".withColumn(\"max_hr_count\", max(\"hr_count\").over(hrOverCategory)) \\\n",
    ".filter(col(\"max_hr_count\") == col(\"hr_count\")) \\\n",
    ".select(\"hr_flag\", \"hour\", \"hr_count\")\n",
    "\n",
    "evening_and_morning_rush_hr_df.show()"
   ]
  },
  {
   "cell_type": "code",
   "execution_count": 22,
   "metadata": {
    "colab": {},
    "colab_type": "code",
    "id": "w8yRXALXgWjJ",
    "outputId": "0f1bc7f1-d90a-45d6-ae31-6daac2d76c31"
   },
   "outputs": [
    {
     "name": "stdout",
     "output_type": "stream",
     "text": [
      "+-----------+---------+\n",
      "|junction   |speed_avg|\n",
      "+-----------+---------+\n",
      "|997 , 1011 |70.03    |\n",
      "|1011 , 1012|72.22    |\n",
      "|1012 , 1013|87.6     |\n",
      "|1013 , 1014|67.12    |\n",
      "|1014 , 1015|88.99    |\n",
      "|1015 , 1016|116.89   |\n",
      "|1016 , 1017|120.81   |\n",
      "|1017 , 1021|112.41   |\n",
      "|1021 , 1022|98.64    |\n",
      "|1022 , 1023|90.21    |\n",
      "|1023 , 1024|92.43    |\n",
      "|1024 , 1025|91.27    |\n",
      "|1025 , 1027|94.55    |\n",
      "|1027 , 1031|88.51    |\n",
      "|1031 , 1032|79.72    |\n",
      "|1032 , 1033|90.14    |\n",
      "|1033 , 1034|94.62    |\n",
      "|1034 , 1035|89.22    |\n",
      "|1035 , 1036|96.0     |\n",
      "|1036 , 1038|66.87    |\n",
      "+-----------+---------+\n",
      "only showing top 20 rows\n",
      "\n"
     ]
    }
   ],
   "source": [
    "#Solution 4: Calculate average speed between each junction on M50 (e.g., junction1 - junction2, junction 3 - junction 4, etc.).\n",
    "\n",
    "average_speed_between_each_junction_df = vehicle_records_df.groupBy(\"cosit\") \\\n",
    "    .agg(round(avg(\"speed\"), 2).alias(\"speed_avg\")).orderBy(\"cosit\") \\\n",
    "    .withColumn(\"lead_cal_number\", lit(\"lead_cal_number\")) \\\n",
    "    .withColumn(\"cosit2\", lead(\"cosit\", 1).over(Window.partitionBy(\"lead_cal_number\").orderBy(\"cosit\"))) \\\n",
    "    .select(concat(\"cosit\", lit(\" , \"), \"cosit2\").alias(\"junction\"), \"speed_avg\")\n",
    "    \n",
    "average_speed_between_each_junction_df.show(truncate=False)\n"
   ]
  },
  {
   "cell_type": "code",
   "execution_count": 11,
   "metadata": {
    "colab": {},
    "colab_type": "code",
    "id": "r6FZi2R3gWjR",
    "outputId": "0e3c3bb8-7f70-4c04-b231-289a95b33db1",
    "scrolled": false
   },
   "outputs": [
    {
     "name": "stdout",
     "output_type": "stream",
     "text": [
      "+------+----------------+---------+\n",
      "|cosit |cosit_name      |count_hgv|\n",
      "+------+----------------+---------+\n",
      "|997   |test            |21065    |\n",
      "|1015  |TMU M01 010.0 S |1760     |\n",
      "|1014  |TMU M01 000.0 N |1559     |\n",
      "|1508  |TMU M50 015.0 S |1349     |\n",
      "|1502  |TMU M50 010.0 N |1344     |\n",
      "|200723|TMU N07 015.0 W |1283     |\n",
      "|1503  |TMU M50 020.0 N |1243     |\n",
      "|1073  |N07 E06.5       |1195     |\n",
      "|1070  |TMU N07 001.0 E |1153     |\n",
      "|1501  |TMU M50 005.0 N |1075     |\n",
      "+------+----------------+---------+\n",
      "\n"
     ]
    }
   ],
   "source": [
    "#Solution 5: Calculate the top 10 locations with highest number of counts of HGVs(class). Map the COSITs with their names given on the map.\n",
    "\n",
    "#Load cosit site details\n",
    "cosit_sites_json_url = \"cosit_sites.json\"\n",
    "cosit_sites_df = spark.read.json(cosit_sites_json_url).withColumn(\"cosit\", col(\"cosit\").cast(IntegerType()))\n",
    "\n",
    "top10_HGVS_df = vehicle_records_df.filter(\"class == 5 or class == 6\") \\\n",
    ".groupBy([\"cosit\"]).count().orderBy(desc(\"count\")).limit(10)\n",
    "\n",
    "\n",
    "top10_HGVS_with_names_df = top10_HGVS_df.join(cosit_sites_df, top10_HGVS_df['cosit'] == cosit_sites_df['cosit'], 'left_outer') \\\n",
    ".select(top10_HGVS_df['cosit'], col(\"name\").alias(\"cosit_name\"), col(\"count\").alias(\"count_hgv\")) \\\n",
    ".orderBy(desc(\"count_HGV\"))\n",
    "\n",
    "top10_HGVS_with_names_df.show(truncate=False)"
   ]
  },
  {
   "cell_type": "code",
   "execution_count": 18,
   "metadata": {},
   "outputs": [],
   "source": [
    "t1_df.write.format(\"org.apache.spark.sql.cassandra\").mode('append') \\\n",
    "    .options(table=\"question_1\", keyspace=\"assignment_1\") \\\n",
    "    .save()"
   ]
  },
  {
   "cell_type": "code",
   "execution_count": 19,
   "metadata": {},
   "outputs": [],
   "source": [
    "highest_lowest_data_with_hr_df.write.format(\"org.apache.spark.sql.cassandra\").mode('append') \\\n",
    "    .options(table=\"question_2\", keyspace=\"assignment_1\") \\\n",
    "    .save()"
   ]
  },
  {
   "cell_type": "code",
   "execution_count": 20,
   "metadata": {},
   "outputs": [],
   "source": [
    "evening_and_morning_rush_hr_df.write.format(\"org.apache.spark.sql.cassandra\").mode('append') \\\n",
    "    .options(table=\"question_3\", keyspace=\"assignment_1\") \\\n",
    "    .save()"
   ]
  },
  {
   "cell_type": "code",
   "execution_count": 24,
   "metadata": {},
   "outputs": [],
   "source": [
    "average_speed_between_each_junction_df.write.format(\"org.apache.spark.sql.cassandra\").mode('append') \\\n",
    "    .options(table=\"question_4\", keyspace=\"assignment_1\") \\\n",
    "    .save()"
   ]
  },
  {
   "cell_type": "code",
   "execution_count": 13,
   "metadata": {
    "colab": {},
    "colab_type": "code",
    "id": "StiJVeoUgWja"
   },
   "outputs": [],
   "source": [
    "top10_HGVS_with_names_df.write.format(\"org.apache.spark.sql.cassandra\").mode('append') \\\n",
    "    .options(table=\"question_5\", keyspace=\"assignment_1\") \\\n",
    "    .save()"
   ]
  },
  {
   "cell_type": "code",
   "execution_count": 0,
   "metadata": {
    "colab": {},
    "colab_type": "code",
    "id": "1jfYGJM8gWjg"
   },
   "outputs": [],
   "source": []
  }
 ],
 "metadata": {
  "colab": {
   "name": "assignment1.ipynb",
   "provenance": []
  },
  "kernelspec": {
   "display_name": "Python 3",
   "language": "python",
   "name": "python3"
  },
  "language_info": {
   "codemirror_mode": {
    "name": "ipython",
    "version": 3
   },
   "file_extension": ".py",
   "mimetype": "text/x-python",
   "name": "python",
   "nbconvert_exporter": "python",
   "pygments_lexer": "ipython3",
   "version": "3.7.6"
  }
 },
 "nbformat": 4,
 "nbformat_minor": 1
}
